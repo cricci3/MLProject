{
 "cells": [
  {
   "cell_type": "code",
   "execution_count": null,
   "id": "initial_id",
   "metadata": {
    "collapsed": true,
    "is_executing": true
   },
   "outputs": [],
   "source": [
    "import pandas as pd\n",
    "import matplotlib.pyplot as plt\n",
    "\n",
    "# Carica il tuo dataset CSV\n",
    "dataset_path = 'smoking.csv'\n",
    "df = pd.read_csv(dataset_path)"
   ]
  },
  {
   "cell_type": "code",
   "execution_count": null,
   "outputs": [],
   "source": [
    "df = df.drop(['ID', 'height(cm)', 'oral'], axis=1)\n",
    "\n",
    "df['tartar'] = df['tartar'].apply(lambda x: 1 if x == 'Y' else 0)\n",
    "df['gender'] = df['gender'].apply(lambda x: 1 if x == 'M' else 0)\n",
    "\n",
    "df_subset = df.head(10000)"
   ],
   "metadata": {
    "collapsed": false,
    "is_executing": true
   },
   "id": "9c511299c206f397"
  },
  {
   "cell_type": "code",
   "execution_count": null,
   "outputs": [],
   "source": [
    "# Crea un istogramma e un boxplot per ogni colonna\n",
    "for col in df_subset.columns:\n",
    "    # Istogramma\n",
    "    plt.figure(figsize=(8, 6))\n",
    "    plt.hist(df_subset[col], bins=20, color='skyblue', edgecolor='black')\n",
    "    plt.title(f'Istogramma di {col}')\n",
    "    plt.xlabel(col)\n",
    "    plt.ylabel('Frequenza')\n",
    "    plt.show()\n",
    "\n",
    "    # Boxplot\n",
    "    plt.figure(figsize=(8, 6))\n",
    "    plt.boxplot(df_subset[col])\n",
    "    plt.title(f'Boxplot di {col}')\n",
    "    plt.ylabel(col)\n",
    "    plt.show()"
   ],
   "metadata": {
    "collapsed": false,
    "is_executing": true
   },
   "id": "17ca21d7504da0d5"
  },
  {
   "cell_type": "code",
   "execution_count": null,
   "outputs": [],
   "source": [],
   "metadata": {
    "collapsed": false,
    "is_executing": true
   },
   "id": "45369c7dd1cefbb2"
  }
 ],
 "metadata": {
  "kernelspec": {
   "display_name": "Python 3",
   "language": "python",
   "name": "python3"
  },
  "language_info": {
   "codemirror_mode": {
    "name": "ipython",
    "version": 2
   },
   "file_extension": ".py",
   "mimetype": "text/x-python",
   "name": "python",
   "nbconvert_exporter": "python",
   "pygments_lexer": "ipython2",
   "version": "2.7.6"
  }
 },
 "nbformat": 4,
 "nbformat_minor": 5
}
